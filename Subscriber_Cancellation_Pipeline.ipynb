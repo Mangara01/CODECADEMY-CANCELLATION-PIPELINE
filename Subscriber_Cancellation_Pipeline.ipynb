{
  "nbformat": 4,
  "nbformat_minor": 0,
  "metadata": {
    "colab": {
      "provenance": [],
      "mount_file_id": "1CjFQcjDZYsAB9Da0qL8S7CwfXbjVzbeN",
      "authorship_tag": "ABX9TyNfyNTxcKGulPFH0M+AHKys"
    },
    "kernelspec": {
      "name": "python3",
      "display_name": "Python 3"
    },
    "language_info": {
      "name": "python"
    }
  },
  "cells": [
    {
      "cell_type": "markdown",
      "source": [
        "# Import Library"
      ],
      "metadata": {
        "id": "Wf3kM04iHM-E"
      }
    },
    {
      "cell_type": "code",
      "source": [
        "import sqlite3\n",
        "import pandas as pd\n",
        "import unittest\n",
        "import logging\n",
        "from datetime import datetime"
      ],
      "metadata": {
        "id": "m6ofpw169SVm"
      },
      "execution_count": 1,
      "outputs": []
    },
    {
      "cell_type": "markdown",
      "source": [
        "# Data Loading"
      ],
      "metadata": {
        "id": "nt7XacD-Me1J"
      }
    },
    {
      "cell_type": "markdown",
      "source": [
        "## Import the data from Google Drive"
      ],
      "metadata": {
        "id": "sSWeZtzkO878"
      }
    },
    {
      "cell_type": "code",
      "source": [
        "from google.colab import drive\n",
        "drive.mount('/content/drive')"
      ],
      "metadata": {
        "id": "x4Ko9pstD-R2",
        "colab": {
          "base_uri": "https://localhost:8080/"
        },
        "outputId": "4afa8292-885a-4757-9a04-fb8af81fd09b"
      },
      "execution_count": 2,
      "outputs": [
        {
          "output_type": "stream",
          "name": "stdout",
          "text": [
            "Drive already mounted at /content/drive; to attempt to forcibly remount, call drive.mount(\"/content/drive\", force_remount=True).\n"
          ]
        }
      ]
    },
    {
      "cell_type": "code",
      "execution_count": 3,
      "metadata": {
        "id": "QagYmXLeRrpx"
      },
      "outputs": [],
      "source": [
        "db_path = '/content/drive/MyDrive/subscriber-pipeline-starter-kit/dev/cademycode.db'"
      ]
    },
    {
      "cell_type": "markdown",
      "source": [
        "## Connect the data to sqlite3"
      ],
      "metadata": {
        "id": "6yFmCLu6PIz4"
      }
    },
    {
      "cell_type": "code",
      "source": [
        "conn = sqlite3.connect(db_path)"
      ],
      "metadata": {
        "id": "RQcJqH2Q91rb"
      },
      "execution_count": 4,
      "outputs": []
    },
    {
      "cell_type": "code",
      "source": [
        "query = \"SELECT name FROM sqlite_master WHERE type='table';\"\n",
        "tables = pd.read_sql_query(query, conn)\n",
        "\n",
        "dataframes = {}\n",
        "for table_name in tables['name']:\n",
        "    query = f\"SELECT * FROM {table_name};\"\n",
        "    df = pd.read_sql_query(query, conn)\n",
        "    dataframes[table_name] = df"
      ],
      "metadata": {
        "id": "oz6Fc14v9qlr"
      },
      "execution_count": 5,
      "outputs": []
    },
    {
      "cell_type": "code",
      "source": [
        "conn.close()"
      ],
      "metadata": {
        "id": "EXmHVSXHBk0D"
      },
      "execution_count": 6,
      "outputs": []
    },
    {
      "cell_type": "markdown",
      "source": [
        "## Retrieve the data as CSV format"
      ],
      "metadata": {
        "id": "kqCrAEJqP7cv"
      }
    },
    {
      "cell_type": "code",
      "source": [
        "output_directory = '/content/'\n",
        "for table_name, df in dataframes.items():\n",
        "    csv_file_path = f\"{output_directory}/{table_name}.csv\"\n",
        "    df.to_csv(csv_file_path, index=False)\n",
        "    print(f\"Table '{table_name}' has been saved as '{csv_file_path}'\")"
      ],
      "metadata": {
        "id": "TEXuEwdXDpuF",
        "colab": {
          "base_uri": "https://localhost:8080/"
        },
        "outputId": "d99df4c1-1798-4721-ce12-6349eb4436b3"
      },
      "execution_count": 7,
      "outputs": [
        {
          "output_type": "stream",
          "name": "stdout",
          "text": [
            "Table 'cademycode_students' has been saved as '/content//cademycode_students.csv'\n",
            "Table 'cademycode_courses' has been saved as '/content//cademycode_courses.csv'\n",
            "Table 'cademycode_student_jobs' has been saved as '/content//cademycode_student_jobs.csv'\n"
          ]
        }
      ]
    },
    {
      "cell_type": "code",
      "source": [
        "df1 = pd.read_csv('/content/cademycode_students.csv')\n",
        "df2 = pd.read_csv('/content/cademycode_courses.csv')\n",
        "df3 = pd.read_csv('/content/cademycode_student_jobs.csv')"
      ],
      "metadata": {
        "id": "iEDb_-KrHPjo"
      },
      "execution_count": 8,
      "outputs": []
    },
    {
      "cell_type": "markdown",
      "source": [
        "# Data Preprocessing"
      ],
      "metadata": {
        "id": "9asJzhU6NDgs"
      }
    },
    {
      "cell_type": "markdown",
      "source": [
        "## Handling Missing Values"
      ],
      "metadata": {
        "id": "2zwnGiBwQLr1"
      }
    },
    {
      "cell_type": "code",
      "source": [
        "# Check missing values in cademycode_students table\n",
        "df1.isna().sum()"
      ],
      "metadata": {
        "colab": {
          "base_uri": "https://localhost:8080/"
        },
        "id": "Hkzd1SIh_wSV",
        "outputId": "ffe64490-ee34-4430-86e2-f2d95306d676"
      },
      "execution_count": 9,
      "outputs": [
        {
          "output_type": "execute_result",
          "data": {
            "text/plain": [
              "uuid                        0\n",
              "name                        0\n",
              "dob                         0\n",
              "sex                         0\n",
              "contact_info                0\n",
              "job_id                      5\n",
              "num_course_taken          251\n",
              "current_career_path_id    471\n",
              "time_spent_hrs            471\n",
              "dtype: int64"
            ]
          },
          "metadata": {},
          "execution_count": 9
        }
      ]
    },
    {
      "cell_type": "code",
      "source": [
        "# Check missing values in cademycode_courses table\n",
        "df2.isna().sum()"
      ],
      "metadata": {
        "colab": {
          "base_uri": "https://localhost:8080/"
        },
        "id": "rVcxYvwqULpj",
        "outputId": "72d7235c-0d23-4e2c-8fa0-f7f6828501e3"
      },
      "execution_count": 10,
      "outputs": [
        {
          "output_type": "execute_result",
          "data": {
            "text/plain": [
              "career_path_id       0\n",
              "career_path_name     0\n",
              "hours_to_complete    0\n",
              "dtype: int64"
            ]
          },
          "metadata": {},
          "execution_count": 10
        }
      ]
    },
    {
      "cell_type": "code",
      "source": [
        "# Check missing values in cademycode_student_jobs table\n",
        "df3.isna().sum()"
      ],
      "metadata": {
        "colab": {
          "base_uri": "https://localhost:8080/"
        },
        "id": "xYo3naSVURdT",
        "outputId": "72bdad67-3402-4376-ed62-50c365b75d38"
      },
      "execution_count": 11,
      "outputs": [
        {
          "output_type": "execute_result",
          "data": {
            "text/plain": [
              "job_id          0\n",
              "job_category    0\n",
              "avg_salary      0\n",
              "dtype: int64"
            ]
          },
          "metadata": {},
          "execution_count": 11
        }
      ]
    },
    {
      "cell_type": "code",
      "source": [
        "df1.dropna(inplace=True)"
      ],
      "metadata": {
        "id": "CMd2SF4SJ49V"
      },
      "execution_count": 12,
      "outputs": []
    },
    {
      "cell_type": "markdown",
      "source": [
        "There are various missing values in the cademycode_students table, so rows that have missing values are deleted. The deletion technique is used because this technique is the fastest compared to other techniques."
      ],
      "metadata": {
        "id": "iBpGmmbcAAJM"
      }
    },
    {
      "cell_type": "markdown",
      "source": [
        "## Change the data type & Rename the data"
      ],
      "metadata": {
        "id": "XhiCdUYbQRez"
      }
    },
    {
      "cell_type": "code",
      "source": [
        "# Check the data type & data name from cademycode_students table\n",
        "df1.info()"
      ],
      "metadata": {
        "colab": {
          "base_uri": "https://localhost:8080/"
        },
        "id": "9KjsdxlyAMSW",
        "outputId": "3ee8ca7c-a1a4-47a2-84c7-bd7924e57c46"
      },
      "execution_count": 13,
      "outputs": [
        {
          "output_type": "stream",
          "name": "stdout",
          "text": [
            "<class 'pandas.core.frame.DataFrame'>\n",
            "Int64Index: 4293 entries, 0 to 4999\n",
            "Data columns (total 9 columns):\n",
            " #   Column                  Non-Null Count  Dtype  \n",
            "---  ------                  --------------  -----  \n",
            " 0   uuid                    4293 non-null   int64  \n",
            " 1   name                    4293 non-null   object \n",
            " 2   dob                     4293 non-null   object \n",
            " 3   sex                     4293 non-null   object \n",
            " 4   contact_info            4293 non-null   object \n",
            " 5   job_id                  4293 non-null   float64\n",
            " 6   num_course_taken        4293 non-null   float64\n",
            " 7   current_career_path_id  4293 non-null   float64\n",
            " 8   time_spent_hrs          4293 non-null   float64\n",
            "dtypes: float64(4), int64(1), object(4)\n",
            "memory usage: 335.4+ KB\n"
          ]
        }
      ]
    },
    {
      "cell_type": "code",
      "source": [
        "# Check the data type & data name from cademycode_courses table\n",
        "df2.info()"
      ],
      "metadata": {
        "colab": {
          "base_uri": "https://localhost:8080/"
        },
        "id": "V8ZlpJMcUzdo",
        "outputId": "ae2a28bd-44d2-4201-b3bc-362926e8387c"
      },
      "execution_count": 14,
      "outputs": [
        {
          "output_type": "stream",
          "name": "stdout",
          "text": [
            "<class 'pandas.core.frame.DataFrame'>\n",
            "RangeIndex: 10 entries, 0 to 9\n",
            "Data columns (total 3 columns):\n",
            " #   Column             Non-Null Count  Dtype \n",
            "---  ------             --------------  ----- \n",
            " 0   career_path_id     10 non-null     int64 \n",
            " 1   career_path_name   10 non-null     object\n",
            " 2   hours_to_complete  10 non-null     int64 \n",
            "dtypes: int64(2), object(1)\n",
            "memory usage: 368.0+ bytes\n"
          ]
        }
      ]
    },
    {
      "cell_type": "code",
      "source": [
        "# Check the data type & data name from cademycode_student_jobs table\n",
        "df3.info()"
      ],
      "metadata": {
        "colab": {
          "base_uri": "https://localhost:8080/"
        },
        "id": "ApN-tmUkU4lF",
        "outputId": "2e2322aa-d8f9-41c4-c0f6-54a8ce240cbf"
      },
      "execution_count": 15,
      "outputs": [
        {
          "output_type": "stream",
          "name": "stdout",
          "text": [
            "<class 'pandas.core.frame.DataFrame'>\n",
            "RangeIndex: 13 entries, 0 to 12\n",
            "Data columns (total 3 columns):\n",
            " #   Column        Non-Null Count  Dtype \n",
            "---  ------        --------------  ----- \n",
            " 0   job_id        13 non-null     int64 \n",
            " 1   job_category  13 non-null     object\n",
            " 2   avg_salary    13 non-null     int64 \n",
            "dtypes: int64(2), object(1)\n",
            "memory usage: 440.0+ bytes\n"
          ]
        }
      ]
    },
    {
      "cell_type": "code",
      "source": [
        "df1['current_career_path_id'] = df1['current_career_path_id'].astype(int)\n",
        "df1['job_id'] = df1['job_id'].astype(int)"
      ],
      "metadata": {
        "id": "eg-E9x_zJRaP"
      },
      "execution_count": 16,
      "outputs": []
    },
    {
      "cell_type": "markdown",
      "source": [
        "The data type is changed because ID is generally an integer type."
      ],
      "metadata": {
        "id": "k_W1QfD9Agyl"
      }
    },
    {
      "cell_type": "code",
      "source": [
        "df1 = df1.rename(columns={'current_career_path_id': 'career_path_id'})"
      ],
      "metadata": {
        "id": "KU6xoOoPIjmW"
      },
      "execution_count": 17,
      "outputs": []
    },
    {
      "cell_type": "markdown",
      "source": [
        "The data name is changed so that tables can be joined."
      ],
      "metadata": {
        "id": "yWSZZcY2Aiu-"
      }
    },
    {
      "cell_type": "markdown",
      "source": [
        "## Merge the data"
      ],
      "metadata": {
        "id": "nXbBlFk2QhDg"
      }
    },
    {
      "cell_type": "code",
      "source": [
        "df4 = pd.merge(df1, df2, on='career_path_id')\n",
        "mdf = pd.merge(df4, df3, on='job_id')"
      ],
      "metadata": {
        "id": "YDwHqE1fIGCf"
      },
      "execution_count": 18,
      "outputs": []
    },
    {
      "cell_type": "markdown",
      "source": [
        "All tables are merged to make the data simpler to process."
      ],
      "metadata": {
        "id": "mdY0LBD4BHPu"
      }
    },
    {
      "cell_type": "markdown",
      "source": [
        "# Exploratory Data Analysis (EDA)"
      ],
      "metadata": {
        "id": "Qv_JdiOOQ0QT"
      }
    },
    {
      "cell_type": "code",
      "source": [
        "mdf.info()"
      ],
      "metadata": {
        "id": "IABRGwt2KxAm",
        "colab": {
          "base_uri": "https://localhost:8080/"
        },
        "outputId": "b27f2673-a392-4882-a4e0-1110eec5b216"
      },
      "execution_count": 19,
      "outputs": [
        {
          "output_type": "stream",
          "name": "stdout",
          "text": [
            "<class 'pandas.core.frame.DataFrame'>\n",
            "Int64Index: 6022 entries, 0 to 6021\n",
            "Data columns (total 13 columns):\n",
            " #   Column             Non-Null Count  Dtype  \n",
            "---  ------             --------------  -----  \n",
            " 0   uuid               6022 non-null   int64  \n",
            " 1   name               6022 non-null   object \n",
            " 2   dob                6022 non-null   object \n",
            " 3   sex                6022 non-null   object \n",
            " 4   contact_info       6022 non-null   object \n",
            " 5   job_id             6022 non-null   int64  \n",
            " 6   num_course_taken   6022 non-null   float64\n",
            " 7   career_path_id     6022 non-null   int64  \n",
            " 8   time_spent_hrs     6022 non-null   float64\n",
            " 9   career_path_name   6022 non-null   object \n",
            " 10  hours_to_complete  6022 non-null   int64  \n",
            " 11  job_category       6022 non-null   object \n",
            " 12  avg_salary         6022 non-null   int64  \n",
            "dtypes: float64(2), int64(5), object(6)\n",
            "memory usage: 658.7+ KB\n"
          ]
        }
      ]
    },
    {
      "cell_type": "markdown",
      "source": [
        "The data has 6022 rows and 13 columns."
      ],
      "metadata": {
        "id": "JtoDiAvVRGnY"
      }
    },
    {
      "cell_type": "code",
      "source": [
        "mdf.describe()"
      ],
      "metadata": {
        "colab": {
          "base_uri": "https://localhost:8080/",
          "height": 300
        },
        "id": "2c4HgB2KBudK",
        "outputId": "799c00fd-e38f-4388-c487-b2d320df0d08"
      },
      "execution_count": 20,
      "outputs": [
        {
          "output_type": "execute_result",
          "data": {
            "text/plain": [
              "              uuid       job_id  num_course_taken  career_path_id  \\\n",
              "count  6022.000000  6022.000000       6022.000000     6022.000000   \n",
              "mean   2487.651943     4.095151          7.464796        5.460478   \n",
              "std    1443.328905     1.871582          4.609516        2.874791   \n",
              "min       1.000000     1.000000          0.000000        1.000000   \n",
              "25%    1237.250000     3.000000          4.000000        3.000000   \n",
              "50%    2503.500000     4.000000          7.000000        5.000000   \n",
              "75%    3717.750000     5.000000         12.000000        8.000000   \n",
              "max    5000.000000     8.000000         15.000000       10.000000   \n",
              "\n",
              "       time_spent_hrs  hours_to_complete     avg_salary  \n",
              "count     6022.000000        6022.000000    6022.000000  \n",
              "mean        11.530297          21.738459   91940.551312  \n",
              "std          7.608912           6.334095   29858.351075  \n",
              "min          0.000000          12.000000   10000.000000  \n",
              "25%          5.340000          18.000000   66000.000000  \n",
              "50%         10.620000          20.000000   86000.000000  \n",
              "75%         16.790000          27.000000  110000.000000  \n",
              "max         35.980000          35.000000  135000.000000  "
            ],
            "text/html": [
              "\n",
              "  <div id=\"df-925d32ed-0e05-4dc8-9f3f-0801fd62bf91\" class=\"colab-df-container\">\n",
              "    <div>\n",
              "<style scoped>\n",
              "    .dataframe tbody tr th:only-of-type {\n",
              "        vertical-align: middle;\n",
              "    }\n",
              "\n",
              "    .dataframe tbody tr th {\n",
              "        vertical-align: top;\n",
              "    }\n",
              "\n",
              "    .dataframe thead th {\n",
              "        text-align: right;\n",
              "    }\n",
              "</style>\n",
              "<table border=\"1\" class=\"dataframe\">\n",
              "  <thead>\n",
              "    <tr style=\"text-align: right;\">\n",
              "      <th></th>\n",
              "      <th>uuid</th>\n",
              "      <th>job_id</th>\n",
              "      <th>num_course_taken</th>\n",
              "      <th>career_path_id</th>\n",
              "      <th>time_spent_hrs</th>\n",
              "      <th>hours_to_complete</th>\n",
              "      <th>avg_salary</th>\n",
              "    </tr>\n",
              "  </thead>\n",
              "  <tbody>\n",
              "    <tr>\n",
              "      <th>count</th>\n",
              "      <td>6022.000000</td>\n",
              "      <td>6022.000000</td>\n",
              "      <td>6022.000000</td>\n",
              "      <td>6022.000000</td>\n",
              "      <td>6022.000000</td>\n",
              "      <td>6022.000000</td>\n",
              "      <td>6022.000000</td>\n",
              "    </tr>\n",
              "    <tr>\n",
              "      <th>mean</th>\n",
              "      <td>2487.651943</td>\n",
              "      <td>4.095151</td>\n",
              "      <td>7.464796</td>\n",
              "      <td>5.460478</td>\n",
              "      <td>11.530297</td>\n",
              "      <td>21.738459</td>\n",
              "      <td>91940.551312</td>\n",
              "    </tr>\n",
              "    <tr>\n",
              "      <th>std</th>\n",
              "      <td>1443.328905</td>\n",
              "      <td>1.871582</td>\n",
              "      <td>4.609516</td>\n",
              "      <td>2.874791</td>\n",
              "      <td>7.608912</td>\n",
              "      <td>6.334095</td>\n",
              "      <td>29858.351075</td>\n",
              "    </tr>\n",
              "    <tr>\n",
              "      <th>min</th>\n",
              "      <td>1.000000</td>\n",
              "      <td>1.000000</td>\n",
              "      <td>0.000000</td>\n",
              "      <td>1.000000</td>\n",
              "      <td>0.000000</td>\n",
              "      <td>12.000000</td>\n",
              "      <td>10000.000000</td>\n",
              "    </tr>\n",
              "    <tr>\n",
              "      <th>25%</th>\n",
              "      <td>1237.250000</td>\n",
              "      <td>3.000000</td>\n",
              "      <td>4.000000</td>\n",
              "      <td>3.000000</td>\n",
              "      <td>5.340000</td>\n",
              "      <td>18.000000</td>\n",
              "      <td>66000.000000</td>\n",
              "    </tr>\n",
              "    <tr>\n",
              "      <th>50%</th>\n",
              "      <td>2503.500000</td>\n",
              "      <td>4.000000</td>\n",
              "      <td>7.000000</td>\n",
              "      <td>5.000000</td>\n",
              "      <td>10.620000</td>\n",
              "      <td>20.000000</td>\n",
              "      <td>86000.000000</td>\n",
              "    </tr>\n",
              "    <tr>\n",
              "      <th>75%</th>\n",
              "      <td>3717.750000</td>\n",
              "      <td>5.000000</td>\n",
              "      <td>12.000000</td>\n",
              "      <td>8.000000</td>\n",
              "      <td>16.790000</td>\n",
              "      <td>27.000000</td>\n",
              "      <td>110000.000000</td>\n",
              "    </tr>\n",
              "    <tr>\n",
              "      <th>max</th>\n",
              "      <td>5000.000000</td>\n",
              "      <td>8.000000</td>\n",
              "      <td>15.000000</td>\n",
              "      <td>10.000000</td>\n",
              "      <td>35.980000</td>\n",
              "      <td>35.000000</td>\n",
              "      <td>135000.000000</td>\n",
              "    </tr>\n",
              "  </tbody>\n",
              "</table>\n",
              "</div>\n",
              "    <div class=\"colab-df-buttons\">\n",
              "\n",
              "  <div class=\"colab-df-container\">\n",
              "    <button class=\"colab-df-convert\" onclick=\"convertToInteractive('df-925d32ed-0e05-4dc8-9f3f-0801fd62bf91')\"\n",
              "            title=\"Convert this dataframe to an interactive table.\"\n",
              "            style=\"display:none;\">\n",
              "\n",
              "  <svg xmlns=\"http://www.w3.org/2000/svg\" height=\"24px\" viewBox=\"0 -960 960 960\">\n",
              "    <path d=\"M120-120v-720h720v720H120Zm60-500h600v-160H180v160Zm220 220h160v-160H400v160Zm0 220h160v-160H400v160ZM180-400h160v-160H180v160Zm440 0h160v-160H620v160ZM180-180h160v-160H180v160Zm440 0h160v-160H620v160Z\"/>\n",
              "  </svg>\n",
              "    </button>\n",
              "\n",
              "  <style>\n",
              "    .colab-df-container {\n",
              "      display:flex;\n",
              "      gap: 12px;\n",
              "    }\n",
              "\n",
              "    .colab-df-convert {\n",
              "      background-color: #E8F0FE;\n",
              "      border: none;\n",
              "      border-radius: 50%;\n",
              "      cursor: pointer;\n",
              "      display: none;\n",
              "      fill: #1967D2;\n",
              "      height: 32px;\n",
              "      padding: 0 0 0 0;\n",
              "      width: 32px;\n",
              "    }\n",
              "\n",
              "    .colab-df-convert:hover {\n",
              "      background-color: #E2EBFA;\n",
              "      box-shadow: 0px 1px 2px rgba(60, 64, 67, 0.3), 0px 1px 3px 1px rgba(60, 64, 67, 0.15);\n",
              "      fill: #174EA6;\n",
              "    }\n",
              "\n",
              "    .colab-df-buttons div {\n",
              "      margin-bottom: 4px;\n",
              "    }\n",
              "\n",
              "    [theme=dark] .colab-df-convert {\n",
              "      background-color: #3B4455;\n",
              "      fill: #D2E3FC;\n",
              "    }\n",
              "\n",
              "    [theme=dark] .colab-df-convert:hover {\n",
              "      background-color: #434B5C;\n",
              "      box-shadow: 0px 1px 3px 1px rgba(0, 0, 0, 0.15);\n",
              "      filter: drop-shadow(0px 1px 2px rgba(0, 0, 0, 0.3));\n",
              "      fill: #FFFFFF;\n",
              "    }\n",
              "  </style>\n",
              "\n",
              "    <script>\n",
              "      const buttonEl =\n",
              "        document.querySelector('#df-925d32ed-0e05-4dc8-9f3f-0801fd62bf91 button.colab-df-convert');\n",
              "      buttonEl.style.display =\n",
              "        google.colab.kernel.accessAllowed ? 'block' : 'none';\n",
              "\n",
              "      async function convertToInteractive(key) {\n",
              "        const element = document.querySelector('#df-925d32ed-0e05-4dc8-9f3f-0801fd62bf91');\n",
              "        const dataTable =\n",
              "          await google.colab.kernel.invokeFunction('convertToInteractive',\n",
              "                                                    [key], {});\n",
              "        if (!dataTable) return;\n",
              "\n",
              "        const docLinkHtml = 'Like what you see? Visit the ' +\n",
              "          '<a target=\"_blank\" href=https://colab.research.google.com/notebooks/data_table.ipynb>data table notebook</a>'\n",
              "          + ' to learn more about interactive tables.';\n",
              "        element.innerHTML = '';\n",
              "        dataTable['output_type'] = 'display_data';\n",
              "        await google.colab.output.renderOutput(dataTable, element);\n",
              "        const docLink = document.createElement('div');\n",
              "        docLink.innerHTML = docLinkHtml;\n",
              "        element.appendChild(docLink);\n",
              "      }\n",
              "    </script>\n",
              "  </div>\n",
              "\n",
              "\n",
              "<div id=\"df-ea5daefb-b9fb-4c47-bc4f-5126a9e52f1e\">\n",
              "  <button class=\"colab-df-quickchart\" onclick=\"quickchart('df-ea5daefb-b9fb-4c47-bc4f-5126a9e52f1e')\"\n",
              "            title=\"Suggest charts.\"\n",
              "            style=\"display:none;\">\n",
              "\n",
              "<svg xmlns=\"http://www.w3.org/2000/svg\" height=\"24px\"viewBox=\"0 0 24 24\"\n",
              "     width=\"24px\">\n",
              "    <g>\n",
              "        <path d=\"M19 3H5c-1.1 0-2 .9-2 2v14c0 1.1.9 2 2 2h14c1.1 0 2-.9 2-2V5c0-1.1-.9-2-2-2zM9 17H7v-7h2v7zm4 0h-2V7h2v10zm4 0h-2v-4h2v4z\"/>\n",
              "    </g>\n",
              "</svg>\n",
              "  </button>\n",
              "\n",
              "<style>\n",
              "  .colab-df-quickchart {\n",
              "      --bg-color: #E8F0FE;\n",
              "      --fill-color: #1967D2;\n",
              "      --hover-bg-color: #E2EBFA;\n",
              "      --hover-fill-color: #174EA6;\n",
              "      --disabled-fill-color: #AAA;\n",
              "      --disabled-bg-color: #DDD;\n",
              "  }\n",
              "\n",
              "  [theme=dark] .colab-df-quickchart {\n",
              "      --bg-color: #3B4455;\n",
              "      --fill-color: #D2E3FC;\n",
              "      --hover-bg-color: #434B5C;\n",
              "      --hover-fill-color: #FFFFFF;\n",
              "      --disabled-bg-color: #3B4455;\n",
              "      --disabled-fill-color: #666;\n",
              "  }\n",
              "\n",
              "  .colab-df-quickchart {\n",
              "    background-color: var(--bg-color);\n",
              "    border: none;\n",
              "    border-radius: 50%;\n",
              "    cursor: pointer;\n",
              "    display: none;\n",
              "    fill: var(--fill-color);\n",
              "    height: 32px;\n",
              "    padding: 0;\n",
              "    width: 32px;\n",
              "  }\n",
              "\n",
              "  .colab-df-quickchart:hover {\n",
              "    background-color: var(--hover-bg-color);\n",
              "    box-shadow: 0 1px 2px rgba(60, 64, 67, 0.3), 0 1px 3px 1px rgba(60, 64, 67, 0.15);\n",
              "    fill: var(--button-hover-fill-color);\n",
              "  }\n",
              "\n",
              "  .colab-df-quickchart-complete:disabled,\n",
              "  .colab-df-quickchart-complete:disabled:hover {\n",
              "    background-color: var(--disabled-bg-color);\n",
              "    fill: var(--disabled-fill-color);\n",
              "    box-shadow: none;\n",
              "  }\n",
              "\n",
              "  .colab-df-spinner {\n",
              "    border: 2px solid var(--fill-color);\n",
              "    border-color: transparent;\n",
              "    border-bottom-color: var(--fill-color);\n",
              "    animation:\n",
              "      spin 1s steps(1) infinite;\n",
              "  }\n",
              "\n",
              "  @keyframes spin {\n",
              "    0% {\n",
              "      border-color: transparent;\n",
              "      border-bottom-color: var(--fill-color);\n",
              "      border-left-color: var(--fill-color);\n",
              "    }\n",
              "    20% {\n",
              "      border-color: transparent;\n",
              "      border-left-color: var(--fill-color);\n",
              "      border-top-color: var(--fill-color);\n",
              "    }\n",
              "    30% {\n",
              "      border-color: transparent;\n",
              "      border-left-color: var(--fill-color);\n",
              "      border-top-color: var(--fill-color);\n",
              "      border-right-color: var(--fill-color);\n",
              "    }\n",
              "    40% {\n",
              "      border-color: transparent;\n",
              "      border-right-color: var(--fill-color);\n",
              "      border-top-color: var(--fill-color);\n",
              "    }\n",
              "    60% {\n",
              "      border-color: transparent;\n",
              "      border-right-color: var(--fill-color);\n",
              "    }\n",
              "    80% {\n",
              "      border-color: transparent;\n",
              "      border-right-color: var(--fill-color);\n",
              "      border-bottom-color: var(--fill-color);\n",
              "    }\n",
              "    90% {\n",
              "      border-color: transparent;\n",
              "      border-bottom-color: var(--fill-color);\n",
              "    }\n",
              "  }\n",
              "</style>\n",
              "\n",
              "  <script>\n",
              "    async function quickchart(key) {\n",
              "      const quickchartButtonEl =\n",
              "        document.querySelector('#' + key + ' button');\n",
              "      quickchartButtonEl.disabled = true;  // To prevent multiple clicks.\n",
              "      quickchartButtonEl.classList.add('colab-df-spinner');\n",
              "      try {\n",
              "        const charts = await google.colab.kernel.invokeFunction(\n",
              "            'suggestCharts', [key], {});\n",
              "      } catch (error) {\n",
              "        console.error('Error during call to suggestCharts:', error);\n",
              "      }\n",
              "      quickchartButtonEl.classList.remove('colab-df-spinner');\n",
              "      quickchartButtonEl.classList.add('colab-df-quickchart-complete');\n",
              "    }\n",
              "    (() => {\n",
              "      let quickchartButtonEl =\n",
              "        document.querySelector('#df-ea5daefb-b9fb-4c47-bc4f-5126a9e52f1e button');\n",
              "      quickchartButtonEl.style.display =\n",
              "        google.colab.kernel.accessAllowed ? 'block' : 'none';\n",
              "    })();\n",
              "  </script>\n",
              "</div>\n",
              "    </div>\n",
              "  </div>\n"
            ]
          },
          "metadata": {},
          "execution_count": 20
        }
      ]
    },
    {
      "cell_type": "markdown",
      "source": [
        "* The number of courses taken is between 0 to 15 with an average of 7.\n",
        "* The time spent (hours) is between 0 to 35 with an average of 11.\n",
        "* The hours to complete is between 12 to 35 with an average of 21.\n",
        "* The average salary is between 10000 to 135000 with an average of 91000."
      ],
      "metadata": {
        "id": "Lnkon1_NCDCy"
      }
    }
  ]
}